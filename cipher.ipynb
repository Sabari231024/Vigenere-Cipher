{
 "cells": [
  {
   "cell_type": "code",
   "execution_count": 1,
   "metadata": {},
   "outputs": [],
   "source": [
    "import string\n",
    "from collections import Counter\n"
   ]
  },
  {
   "cell_type": "code",
   "execution_count": 2,
   "metadata": {},
   "outputs": [],
   "source": [
    "def textstrip(filename):\n",
    "    '''This takes the file and converts it to a string with all the spaces and other\n",
    "    special characters removed. What remains is only the lower case letters,\n",
    "    retain only the lowercase letters!\n",
    "    '''\n",
    "    with open(filename, 'r', encoding='utf-8') as file:\n",
    "        text = file.read().lower()\n",
    "    return ''.join(filter(str.isalpha, text))"
   ]
  },
  {
   "cell_type": "code",
   "execution_count": 3,
   "metadata": {},
   "outputs": [],
   "source": [
    "def letter_distribution(s):\n",
    "    '''Consider the string s which comprises of only lowercase letters. Count\n",
    "    the number of occurrences of each letter and return a dictionary'''\n",
    "    return dict(Counter(s))"
   ]
  },
  {
   "cell_type": "code",
   "execution_count": 4,
   "metadata": {},
   "outputs": [],
   "source": [
    "def substitution_encrypt(s, d):\n",
    "    '''Encrypt the contents of s by using the dictionary d which comprises of\n",
    "    the substitutions for the 26 letters. Return the resulting string'''\n",
    "    return ''.join(d[char] if char in d else char for char in s)\n"
   ]
  },
  {
   "cell_type": "code",
   "execution_count": 5,
   "metadata": {},
   "outputs": [],
   "source": [
    "def substitution_decrypt(s, d):\n",
    "    '''Decrypt the contents of s by using the dictionary d which comprises of\n",
    "    the substitutions for the 26 letters. Return the resulting string'''\n",
    "    inv = {v: k for k, v in d.items()}\n",
    "    return ''.join(inv[char] if char in inv else char for char in s)"
   ]
  },
  {
   "cell_type": "code",
   "execution_count": 6,
   "metadata": {},
   "outputs": [],
   "source": [
    "def cryptanalyse_substitution(s):\n",
    "    '''Given that the string s is given to us and it is known that it was\n",
    "    encrypted using some substitution cipher, predict the d'''\n",
    "    frequency_order = 'etaoinshrdlcumwfgypbvkjxqz'\n",
    "    freq_dist = letter_distribution(s)\n",
    "    sorted_chars = sorted(freq_dist, key=freq_dist.get, reverse=True)\n",
    "    d = {char: freq_char for char, freq_char in zip(sorted_chars, frequency_order)}\n",
    "    return d"
   ]
  },
  {
   "cell_type": "code",
   "execution_count": 7,
   "metadata": {},
   "outputs": [],
   "source": [
    "def vigenere_encrypt(s, password):\n",
    "    '''Encrypt the string s based on the password the vigenere cipher way and\n",
    "    return the resulting string'''\n",
    "    password = password.lower()\n",
    "    key_indices = [ord(char) - ord('a') for char in password]\n",
    "    key_length = len(key_indices)\n",
    "    encrypted = []\n",
    "\n",
    "    for i, char in enumerate(s):\n",
    "        if char.isalpha():\n",
    "            offset = ord('a')\n",
    "            char_code = ord(char) - offset\n",
    "            key_code = key_indices[i % key_length]\n",
    "            encrypted_char = chr((char_code + key_code) % 26 + offset)\n",
    "            encrypted.append(encrypted_char)\n",
    "        else:\n",
    "            encrypted.append(char)\n",
    "\n",
    "    return ''.join(encrypted)"
   ]
  },
  {
   "cell_type": "code",
   "execution_count": 8,
   "metadata": {},
   "outputs": [],
   "source": [
    "def vigenere_decrypt(s, password):\n",
    "    '''Decrypt the string s based on the password the vigenere cipher way and\n",
    "    return the resulting string'''\n",
    "    password = password.lower()\n",
    "    key_indices = [ord(char) - ord('a') for char in password]\n",
    "    key_length = len(key_indices)\n",
    "    decrypted = []\n",
    "\n",
    "    for i, char in enumerate(s):\n",
    "        if char.isalpha():\n",
    "            offset = ord('a')\n",
    "            char_code = ord(char) - offset\n",
    "            key_code = key_indices[i % key_length]\n",
    "            decrypted_char = chr((char_code - key_code + 26) % 26 + offset)\n",
    "            decrypted.append(decrypted_char)\n",
    "        else:\n",
    "            decrypted.append(char)\n",
    "\n",
    "    return ''.join(decrypted)"
   ]
  },
  {
   "cell_type": "code",
   "execution_count": 9,
   "metadata": {},
   "outputs": [],
   "source": [
    "def rotate_compare(s, r):\n",
    "    '''This rotates the string s by r places and compares s(0) with s(r) and\n",
    "    returns the proportion of collisions'''\n",
    "    rotated_s = s[r:] + s[:r]\n",
    "    collisions = sum(1 for a, b in zip(s, rotated_s) if a == b)\n",
    "    return collisions / len(s)\n",
    "\n",
    "def cryptanalyse_vigenere_afterlength(s, k):\n",
    "    '''Given the string s which is known to be Vigenere encrypted with a password of length k, \n",
    "    find out what is the password.'''\n",
    "    columns = ['' for _ in range(k)]\n",
    "    for i, char in enumerate(s):\n",
    "        columns[i % k] += char\n",
    "\n",
    "    password = ''\n",
    "    frequency_order = 'etaoinshrdlcumwfgypbvkjxqz'\n",
    "    for col in columns:\n",
    "        freq_dist = Counter(col)\n",
    "        most_common_char = freq_dist.most_common(1)[0][0]\n",
    "        key_char = chr((ord(most_common_char) - ord('e')) % 26 + ord('a'))\n",
    "        password += key_char\n",
    "\n",
    "    return password"
   ]
  },
  {
   "cell_type": "code",
   "execution_count": 13,
   "metadata": {},
   "outputs": [],
   "source": [
    "def cryptanalyse_vigenere_findlength(s):\n",
    "    '''Given just the string s, find out the length of the password using which\n",
    "    some text has resulted in the string s. We just need to return the number\n",
    "    k'''\n",
    "    n = len(s)\n",
    "    avg_collisions = []\n",
    "\n",
    "    for k in range(1, 21):\n",
    "        collisions = sum(rotate_compare(s, r) for r in range(k))\n",
    "        avg_collisions.append((collisions / k, k))\n",
    "\n",
    "    return max(avg_collisions)[1]\n",
    "\n",
    "def cryptanalyse_vigenere(s):\n",
    "    '''Given the string s cryptanalyse vigenere, output the password as well as\n",
    "    the plaintext'''\n",
    "    k = cryptanalyse_vigenere_findlength(s)\n",
    "    print(1)\n",
    "    password = cryptanalyse_vigenere_afterlength(s, k)\n",
    "    print(2)\n",
    "    plaintext = vigenere_decrypt(s, password)\n",
    "    print(3)\n",
    "    return password, plaintext\n"
   ]
  },
  {
   "cell_type": "code",
   "execution_count": 14,
   "metadata": {},
   "outputs": [
    {
     "name": "stdout",
     "output_type": "stream",
     "text": [
      "hii bro!! now i am gonna encrypt an file for you :)\n",
      "Encrypted text has been saved to encrypt.txt\n",
      "dEcRyPt ... ... ... inG\n",
      "Decrypted text has been saved to decrypt.txt\n",
      "1\n"
     ]
    },
    {
     "ename": "KeyboardInterrupt",
     "evalue": "",
     "output_type": "error",
     "traceback": [
      "\u001b[1;31m---------------------------------------------------------------------------\u001b[0m",
      "\u001b[1;31mKeyboardInterrupt\u001b[0m                         Traceback (most recent call last)",
      "Cell \u001b[1;32mIn[14], line 26\u001b[0m\n\u001b[0;32m     24\u001b[0m \u001b[38;5;28;01mwith\u001b[39;00m \u001b[38;5;28mopen\u001b[39m(filename, \u001b[38;5;124m'\u001b[39m\u001b[38;5;124mr\u001b[39m\u001b[38;5;124m'\u001b[39m, encoding\u001b[38;5;241m=\u001b[39m\u001b[38;5;124m'\u001b[39m\u001b[38;5;124mutf-8\u001b[39m\u001b[38;5;124m'\u001b[39m) \u001b[38;5;28;01mas\u001b[39;00m file:\n\u001b[0;32m     25\u001b[0m     encrypted_text \u001b[38;5;241m=\u001b[39m file\u001b[38;5;241m.\u001b[39mread()\n\u001b[1;32m---> 26\u001b[0m     password, plaintext \u001b[38;5;241m=\u001b[39m \u001b[43mcryptanalyse_vigenere\u001b[49m\u001b[43m(\u001b[49m\u001b[43mencrypted_text\u001b[49m\u001b[43m)\u001b[49m\n\u001b[0;32m     27\u001b[0m     \u001b[38;5;28mprint\u001b[39m(\u001b[38;5;124mf\u001b[39m\u001b[38;5;124m\"\u001b[39m\u001b[38;5;124mPredicted password: \u001b[39m\u001b[38;5;132;01m{\u001b[39;00mpassword\u001b[38;5;132;01m}\u001b[39;00m\u001b[38;5;124m\"\u001b[39m)\n",
      "Cell \u001b[1;32mIn[13], line 19\u001b[0m, in \u001b[0;36mcryptanalyse_vigenere\u001b[1;34m(s)\u001b[0m\n\u001b[0;32m     17\u001b[0m k \u001b[38;5;241m=\u001b[39m cryptanalyse_vigenere_findlength(s)\n\u001b[0;32m     18\u001b[0m \u001b[38;5;28mprint\u001b[39m(\u001b[38;5;241m1\u001b[39m)\n\u001b[1;32m---> 19\u001b[0m password \u001b[38;5;241m=\u001b[39m \u001b[43mcryptanalyse_vigenere_afterlength\u001b[49m\u001b[43m(\u001b[49m\u001b[43ms\u001b[49m\u001b[43m,\u001b[49m\u001b[43m \u001b[49m\u001b[43mk\u001b[49m\u001b[43m)\u001b[49m\n\u001b[0;32m     20\u001b[0m \u001b[38;5;28mprint\u001b[39m(\u001b[38;5;241m2\u001b[39m)\n\u001b[0;32m     21\u001b[0m plaintext \u001b[38;5;241m=\u001b[39m vigenere_decrypt(s, password)\n",
      "Cell \u001b[1;32mIn[9], line 13\u001b[0m, in \u001b[0;36mcryptanalyse_vigenere_afterlength\u001b[1;34m(s, k)\u001b[0m\n\u001b[0;32m     11\u001b[0m columns \u001b[38;5;241m=\u001b[39m [\u001b[38;5;124m'\u001b[39m\u001b[38;5;124m'\u001b[39m \u001b[38;5;28;01mfor\u001b[39;00m _ \u001b[38;5;129;01min\u001b[39;00m \u001b[38;5;28mrange\u001b[39m(k)]\n\u001b[0;32m     12\u001b[0m \u001b[38;5;28;01mfor\u001b[39;00m i, char \u001b[38;5;129;01min\u001b[39;00m \u001b[38;5;28menumerate\u001b[39m(s):\n\u001b[1;32m---> 13\u001b[0m     columns[i \u001b[38;5;241m%\u001b[39m k] \u001b[38;5;241m+\u001b[39m\u001b[38;5;241m=\u001b[39m char\n\u001b[0;32m     15\u001b[0m password \u001b[38;5;241m=\u001b[39m \u001b[38;5;124m'\u001b[39m\u001b[38;5;124m'\u001b[39m\n\u001b[0;32m     16\u001b[0m frequency_order \u001b[38;5;241m=\u001b[39m \u001b[38;5;124m'\u001b[39m\u001b[38;5;124metaoinshrdlcumwfgypbvkjxqz\u001b[39m\u001b[38;5;124m'\u001b[39m\n",
      "\u001b[1;31mKeyboardInterrupt\u001b[0m: "
     ]
    }
   ],
   "source": [
    "import sys\n",
    "print(\"hii bro!! now i am gonna encrypt an file for you :)\")\n",
    "filename = r\"D:\\IITRPRCPS\\english_random.txt\"\n",
    "password = input(\"Enter the password for encryption: \")\n",
    "text = textstrip(filename)\n",
    "encrypted_text = vigenere_encrypt(text, password)\n",
    "output_filename = \"encrypt.txt\"\n",
    "with open(output_filename, 'w', encoding='utf-8') as file:\n",
    "    file.write(encrypted_text)\n",
    "print(f\"Encrypted text has been saved to {output_filename}\")\n",
    "\n",
    "print(\"dEcRyPt ... ... ... inG\")\n",
    "filename = output_filename\n",
    "password = input(\"Enter the password for decryption: \")\n",
    "with open(filename, 'r', encoding='utf-8') as file:\n",
    "    encrypted_text = file.read()\n",
    "    decrypted_text = vigenere_decrypt(encrypted_text, password)\n",
    "    output_filename = \"decrypt.txt\"\n",
    "with open(output_filename, 'w', encoding='utf-8') as file:\n",
    "    file.write(decrypted_text)\n",
    "print(f\"Decrypted text has been saved to {output_filename}\")\n",
    "             \n",
    "filename = output_filename\n",
    "with open(filename, 'r', encoding='utf-8') as file:\n",
    "    encrypted_text = file.read()\n",
    "    password, plaintext = cryptanalyse_vigenere(encrypted_text)\n",
    "    print(f\"Predicted password: {password}\")\n",
    "          \n",
    "        \n",
    "            \n",
    "        \n",
    "        \n",
    "            \n",
    "        \n",
    "        \n",
    "        "
   ]
  },
  {
   "cell_type": "code",
   "execution_count": null,
   "metadata": {},
   "outputs": [],
   "source": []
  }
 ],
 "metadata": {
  "kernelspec": {
   "display_name": "Python 3",
   "language": "python",
   "name": "python3"
  },
  "language_info": {
   "codemirror_mode": {
    "name": "ipython",
    "version": 3
   },
   "file_extension": ".py",
   "mimetype": "text/x-python",
   "name": "python",
   "nbconvert_exporter": "python",
   "pygments_lexer": "ipython3",
   "version": "3.10.10"
  }
 },
 "nbformat": 4,
 "nbformat_minor": 2
}
